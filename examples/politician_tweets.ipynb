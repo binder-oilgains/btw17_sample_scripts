{
 "cells": [
  {
   "cell_type": "markdown",
   "metadata": {},
   "source": [
    "# Create Mongo Database Connection"
   ]
  },
  {
   "cell_type": "code",
   "execution_count": null,
   "metadata": {},
   "outputs": [],
   "source": [
    "from pymongo import MongoClient\n",
    "class DBConnector():\n",
    "    def __init__(self, ip, db_name, usr,  psw):\n",
    "        self.db_name = db_name\n",
    "        self.usr = usr\n",
    "        self.psw = psw\n",
    "        self.uri = 'mongodb://{0}:{1}@{2}/{3}'.format(usr, psw, ip, db_name)\n",
    "        print(self.uri)\n",
    "    def mongoClient(self, collection):\n",
    "        self.mongo_client = MongoClient(self.uri)\n",
    "        db = self.mongo_client[self.db_name]\n",
    "        db_client = db[collection]\n",
    "        return db_client\n",
    "    def close_connection(self):\n",
    "        self.mongo_client.close()"
   ]
  },
  {
   "cell_type": "code",
   "execution_count": null,
   "metadata": {},
   "outputs": [],
   "source": [
    "db_connector = DBConnector('10.6.13.139', 'twitter_merged', 'ruser1', 'PASSWORD')\n",
    "collection = db_connector.mongoClient('politicians')"
   ]
  },
  {
   "cell_type": "markdown",
   "metadata": {},
   "source": [
    "# Retrieve the list of politicians from the SMM API "
   ]
  },
  {
   "cell_type": "code",
   "execution_count": null,
   "metadata": {},
   "outputs": [],
   "source": [
    "from smm_wrapper import SMMPoliticians\n",
    "\n",
    "# Create an instance to the smm wrapper\n",
    "smm = SMMPoliticians()\n",
    "\n",
    "# Request the politicians from the API\n",
    "politicians = smm.dv.get_politicians()\n",
    "\n",
    "politicians.head()"
   ]
  },
  {
   "cell_type": "markdown",
   "metadata": {},
   "source": [
    "# Retrieve tweets of one politician\n",
    "#### e.g. `politician_id` == 1 corresponds to Johann David Wadephul"
   ]
  },
  {
   "cell_type": "code",
   "execution_count": null,
   "metadata": {},
   "outputs": [],
   "source": [
    "from datetime import datetime\n",
    "import pandas as pd\n",
    "\n",
    "try:\n",
    "    # pandas >= 0.25\n",
    "    from pandas.io.json._normalize import nested_to_record \n",
    "except:\n",
    "    from pandas.io.json.normalize import nested_to_record   \n",
    "\n",
    "def get_tweets_of_twitter_ids(twitter_ids, _from='2017-7-5', _to='2018-12-31'):\n",
    "    query = collection.find({\n",
    "        'user.id': {'$in': twitter_ids},\n",
    "        'createdAt': {\n",
    "            '$gte': datetime.strptime(_from, '%Y-%m-%d'), \n",
    "            '$lt': datetime.strptime(_to, '%Y-%m-%d'), \n",
    "        }\n",
    "    })\n",
    "    return pd.DataFrame(nested_to_record(x) for x in query)\n",
    "    "
   ]
  },
  {
   "cell_type": "code",
   "execution_count": null,
   "metadata": {},
   "outputs": [],
   "source": [
    "twitter_ids=politicians.loc[1, 'tw_ids']\n",
    "get_tweets_of_twitter_ids(twitter_ids, '2017-7-5', '2018-12-31')"
   ]
  },
  {
   "cell_type": "markdown",
   "metadata": {},
   "source": [
    "# Retrieve tweets of the first 100 politicians"
   ]
  },
  {
   "cell_type": "code",
   "execution_count": null,
   "metadata": {},
   "outputs": [],
   "source": [
    "# Create a list of all twitter ids. Note that one politician could have\n",
    "# different twitter ids\n",
    "from IPython.display import clear_output\n",
    "\n",
    "politician_dfs = []\n",
    "for _, politician in politicians.iloc[0:100].iterrows():\n",
    "    clear_output()\n",
    "    print(f\"Downloading tweets of {politician['firstname']} {politician['name']}\")\n",
    "    \n",
    "    if politician['tw_ids'] != None:\n",
    "        politician_dfs.append(get_tweets_of_twitter_ids(politician['tw_ids']))"
   ]
  },
  {
   "cell_type": "code",
   "execution_count": null,
   "metadata": {},
   "outputs": [],
   "source": [
    "tweets = pd.concat(politician_dfs)\n",
    "tweets.head()"
   ]
  }
 ],
 "metadata": {
  "kernelspec": {
   "display_name": "Python 3",
   "language": "python",
   "name": "python3"
  },
  "language_info": {
   "codemirror_mode": {
    "name": "ipython",
    "version": 3
   },
   "file_extension": ".py",
   "mimetype": "text/x-python",
   "name": "python",
   "nbconvert_exporter": "python",
   "pygments_lexer": "ipython3",
   "version": "3.7.5"
  }
 },
 "nbformat": 4,
 "nbformat_minor": 2
}
