{
 "cells": [
  {
   "cell_type": "code",
   "execution_count": 1,
   "metadata": {},
   "outputs": [],
   "source": [
    "library(mongolite)"
   ]
  },
  {
   "cell_type": "markdown",
   "metadata": {},
   "source": [
    "# Set Up Environment\n",
    "\n",
    "## Variables"
   ]
  },
  {
   "cell_type": "code",
   "execution_count": 12,
   "metadata": {},
   "outputs": [],
   "source": [
    "collection <- \"politicians_sample\" # or \"organizations\" \"selectors\"\n",
    "username <- \"btw17_public_user\"\n",
    "password <- \"btw17_public\"\n",
    "ip <- \"10.6.13.139\"\n",
    "db = \"twitter_public\""
   ]
  },
  {
   "cell_type": "markdown",
   "metadata": {},
   "source": [
    "## Environment"
   ]
  },
  {
   "cell_type": "code",
   "execution_count": 13,
   "metadata": {},
   "outputs": [],
   "source": [
    "m <- mongo(collection = collection, url =\n",
    "             paste0('mongodb://',username,':',password,'@',ip,'/',db))"
   ]
  },
  {
   "cell_type": "markdown",
   "metadata": {},
   "source": [
    "# Query"
   ]
  },
  {
   "cell_type": "code",
   "execution_count": 14,
   "metadata": {},
   "outputs": [],
   "source": [
    "query <- m$find(\n",
    "  query = '{\n",
    "    \"createdAt\": { \"$gte\" : { \"$date\" : \"2018-10-28T00:00:00Z\" }},\n",
    "    \"createdAt\": { \"$lte\" : { \"$date\" : \"2018-10-28T23:59:59Z\" }}\n",
    "  }',\n",
    "  fields = '{\"_id\": 1, \"user.id\": 1, \"user.name\": 1, \"user.screenName\": 1, \"createdAt\": 1, \"text\": 1, \"source\": 1}'\n",
    ")\n"
   ]
  },
  {
   "cell_type": "code",
   "execution_count": 15,
   "metadata": {},
   "outputs": [
    {
     "name": "stdout",
     "output_type": "stream",
     "text": [
      "data frame with 0 columns and 10 rows\n"
     ]
    }
   ],
   "source": [
    "print(query[c(1:10),])"
   ]
  },
  {
   "cell_type": "code",
   "execution_count": null,
   "metadata": {},
   "outputs": [],
   "source": []
  }
 ],
 "metadata": {
  "kernelspec": {
   "display_name": "R",
   "language": "R",
   "name": "ir"
  },
  "language_info": {
   "codemirror_mode": "r",
   "file_extension": ".r",
   "mimetype": "text/x-r-source",
   "name": "R",
   "pygments_lexer": "r",
   "version": "3.6.0"
  }
 },
 "nbformat": 4,
 "nbformat_minor": 2
}
