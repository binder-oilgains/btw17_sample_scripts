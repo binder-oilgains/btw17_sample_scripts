{
 "cells": [
  {
   "cell_type": "code",
   "execution_count": null,
   "metadata": {},
   "outputs": [],
   "source": [
    "library(mongolite)"
   ]
  },
  {
   "cell_type": "markdown",
   "metadata": {},
   "source": [
    "# Set Up Environment\n",
    "\n",
    "## Variables"
   ]
  },
  {
   "cell_type": "code",
   "execution_count": null,
   "metadata": {},
   "outputs": [],
   "source": [
    "collection <- \"politicians_sample\" # or \"organizations\" \"selectors\"\n",
    "username <- \"btw17_public_user\"\n",
    "password <- \"btw17_public\"\n",
    "ip <- \"10.6.13.139\"\n",
    "db = \"twitter_public\""
   ]
  },
  {
   "cell_type": "markdown",
   "metadata": {},
   "source": [
    "## Environment"
   ]
  },
  {
   "cell_type": "code",
   "execution_count": null,
   "metadata": {},
   "outputs": [],
   "source": [
    "m <- mongo(collection = collection, url =\n",
    "             paste0('mongodb://',username,':',password,'@',ip,'/',db))"
   ]
  },
  {
   "cell_type": "markdown",
   "metadata": {},
   "source": [
    "# Query"
   ]
  },
  {
   "cell_type": "code",
   "execution_count": null,
   "metadata": {},
   "outputs": [],
   "source": [
    "query <- m$find(\n",
    " query = '{\n",
    "   \"createdAt\": { \"$gte\" : { \"$date\" : \"2017-09-23T19:00:00Z\" }},\n",
    "   \"createdAt\": { \"$lte\" : { \"$date\" : \"2017-09-23T22:59:59Z\" }}\n",
    " }',\n",
    " fields = '{\"_id\": 1, \"user.id\": 1, \"user.name\": 1, \"user.screenName\": 1, \"createdAt\": 1, \"text\": 1, \"source\": 1}'\n",
    ")"
   ]
  },
  {
   "cell_type": "code",
   "execution_count": null,
   "metadata": {},
   "outputs": [],
   "source": [
    "print(query[c(1:10),])"
   ]
  },
  {
   "cell_type": "code",
   "execution_count": null,
   "metadata": {},
   "outputs": [],
   "source": []
  }
 ],
 "metadata": {
  "kernelspec": {
   "display_name": "R",
   "language": "R",
   "name": "ir"
  },
  "language_info": {
   "codemirror_mode": "r",
   "file_extension": ".r",
   "mimetype": "text/x-r-source",
   "name": "R",
   "pygments_lexer": "r",
   "version": "3.4.4"
  }
 },
 "nbformat": 4,
 "nbformat_minor": 2
}
