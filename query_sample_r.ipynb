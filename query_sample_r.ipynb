{
 "cells": [
  {
   "cell_type": "code",
   "execution_count": 1,
   "metadata": {},
   "outputs": [],
   "source": [
    "library(mongolite)"
   ]
  },
  {
   "cell_type": "markdown",
   "metadata": {},
   "source": [
    "# Set Up Environment\n",
    "\n",
    "## Variables"
   ]
  },
  {
   "cell_type": "code",
   "execution_count": 2,
   "metadata": {},
   "outputs": [],
   "source": [
    "collection <- \"politicians\" # or \"organizations\" \"selectors\"\n",
    "username <- \"btw17_master_guest\"\n",
    "password <- \"afdgruene2017\"\n",
    "ip <- \"34.242.52.174\""
   ]
  },
  {
   "cell_type": "markdown",
   "metadata": {},
   "source": [
    "## Environment"
   ]
  },
  {
   "cell_type": "code",
   "execution_count": 3,
   "metadata": {},
   "outputs": [],
   "source": [
    "m <- mongo(collection = collection, db = \"twitter_merged\", url =\n",
    "             paste0('mongodb://',username,':',password,'@',ip,'/?sockettimeoutms=1200000'))"
   ]
  },
  {
   "cell_type": "markdown",
   "metadata": {},
   "source": [
    "# Query"
   ]
  },
  {
   "cell_type": "code",
   "execution_count": 5,
   "metadata": {},
   "outputs": [],
   "source": [
    "query <- m$find(\n",
    "  query = '{\n",
    "    \"createdAt\": { \"$gte\" : { \"$date\" : \"2018-10-28T00:00:00Z\" }},\n",
    "    \"createdAt\": { \"$lte\" : { \"$date\" : \"2018-10-28T23:59:59Z\" }}\n",
    "  }',\n",
    "  fields = '{\"_id\": 1, \"user.id\": 1, \"user.name\": 1, \"user.screenName\": 1, \"createdAt\": 1, \"text\": 1, \"source\": 1}'\n",
    ")\n"
   ]
  },
  {
   "cell_type": "code",
   "execution_count": 9,
   "metadata": {},
   "outputs": [
    {
     "name": "stdout",
     "output_type": "stream",
     "text": [
      "            _id           createdAt\n",
      "1  1.056335e+18 2018-10-28 02:00:01\n",
      "2  1.056335e+18 2018-10-28 02:00:06\n",
      "3  1.056335e+18 2018-10-28 02:00:11\n",
      "4  1.056335e+18 2018-10-28 02:00:15\n",
      "5  1.056335e+18 2018-10-28 02:00:15\n",
      "6  1.056335e+18 2018-10-28 02:00:19\n",
      "7  1.056335e+18 2018-10-28 02:00:24\n",
      "8  1.056335e+18 2018-10-28 02:00:28\n",
      "9  1.056335e+18 2018-10-28 02:00:35\n",
      "10 1.056335e+18 2018-10-28 02:00:40\n",
      "                                                               source\n",
      "1  <a href=\"http://twitter.com\" rel=\"nofollow\">Twitter Web Client</a>\n",
      "2  <a href=\"http://twitter.com\" rel=\"nofollow\">Twitter Web Client</a>\n",
      "3  <a href=\"http://twitter.com\" rel=\"nofollow\">Twitter Web Client</a>\n",
      "4  <a href=\"http://twitter.com\" rel=\"nofollow\">Twitter Web Client</a>\n",
      "5  <a href=\"http://twitter.com\" rel=\"nofollow\">Twitter Web Client</a>\n",
      "6  <a href=\"http://twitter.com\" rel=\"nofollow\">Twitter Web Client</a>\n",
      "7  <a href=\"http://twitter.com\" rel=\"nofollow\">Twitter Web Client</a>\n",
      "8  <a href=\"http://twitter.com\" rel=\"nofollow\">Twitter Web Client</a>\n",
      "9  <a href=\"http://twitter.com\" rel=\"nofollow\">Twitter Web Client</a>\n",
      "10 <a href=\"http://twitter.com\" rel=\"nofollow\">Twitter Web Client</a>\n",
      "                                                                                                                                                                                                                                                                                                                         text\n",
      "1                                                                                                                                                                     RT @GuidoReil: Liebe #Hessen!<U+0001F4E2>  Die #AfD macht sich stark für die Sicherheit Ihrer Liebsten! Schützen wir Frauen+Mädchen vor Verbrechen wie…\n",
      "2                                                                                                                                                        RT @GuidoReil: Liebe #Hessen!<U+0001F4E2> Schützt den #Märchenwald #Reinhardswald vor der Zerstörung durch CDU & Grüne! #Grimm\\n\\n<U+0001F195> #SaveMyReiny unterst…\n",
      "3                                                                                                                                                                                RT @GuidoReil: Am 28.10. gilt es, den letzten #Landtag für die #AfD zu erobern & zugleich, Ministerpräsident Volker Bouffier & damit auch B…\n",
      "4  @DietmarBartsch @NATO @tagesschau Ein unfähiger US-Präsident, dem russische Hacker  mit zur Macht verholfen haben, ist Bestandteil von Putins Plan, den Westen zu destabilisieren und schwächen. #Putin ist nicht der Erbe der Oktoberrevolution und die @dieLinke muß sich von Sowjet-Romantik verabschieden und befreien\n",
      "5                                                                                                                                                                                RT @thomasroecke: Meine Anteilnahme gilt dem Opfer und seinen Angehörigen. Wer sich jetzt noch schützend und relativierend vor die abscheul…\n",
      "6                                                                                                                                                                                                                                                        RT @LarsPatrickBerg: https://t.co/MKtzLvHW4v https://t.co/BT1NqrhLiq\n",
      "7                                                                                                                                                                                                                           RT @P_I: Jan Böhmermann, der Mann mit dem Desinfektionsmittel gegen Juden https://t.co/sYim7xau1Z\n",
      "8                                                                                                                                                                                                                                                          RT @StBrandner: #Blödermann...<U+0001F92A> https://t.co/eNINOdKfYE\n",
      "9                                                                                                                                                                                RT @STOPPStaatsfunk: @StBrandner Klar, wieso der menschenverachtende #Blödermann seine -z.T. antisemitische- #ReconquistaInternet-Sekte v.a…\n",
      "10                                                                                                                                                                    RT @UdoHemmelgarn: Die #Gruppenvergewaltigung einer jungen Frau in #Freiburg schockiert.<U+0001F61F> Obwohl dann wieder die #AfD diffamiert wird, nich…\n",
      "        user.id           user.name user.screenName\n",
      "1  7.199757e+17 Jörg Schneider, MdB   Schneider_AfD\n",
      "2  7.199757e+17 Jörg Schneider, MdB   Schneider_AfD\n",
      "3  7.199757e+17 Jörg Schneider, MdB   Schneider_AfD\n",
      "4  7.823736e+17      aello mazzeppa       AMazzeppa\n",
      "5  7.199757e+17 Jörg Schneider, MdB   Schneider_AfD\n",
      "6  7.199757e+17 Jörg Schneider, MdB   Schneider_AfD\n",
      "7  7.199757e+17 Jörg Schneider, MdB   Schneider_AfD\n",
      "8  7.199757e+17 Jörg Schneider, MdB   Schneider_AfD\n",
      "9  7.199757e+17 Jörg Schneider, MdB   Schneider_AfD\n",
      "10 7.199757e+17 Jörg Schneider, MdB   Schneider_AfD\n"
     ]
    }
   ],
   "source": [
    "print(query[c(1:10),])"
   ]
  },
  {
   "cell_type": "code",
   "execution_count": null,
   "metadata": {},
   "outputs": [],
   "source": []
  }
 ],
 "metadata": {
  "kernelspec": {
   "display_name": "R",
   "language": "R",
   "name": "ir"
  },
  "language_info": {
   "codemirror_mode": "r",
   "file_extension": ".r",
   "mimetype": "text/x-r-source",
   "name": "R",
   "pygments_lexer": "r",
   "version": "3.6.0"
  }
 },
 "nbformat": 4,
 "nbformat_minor": 2
}
